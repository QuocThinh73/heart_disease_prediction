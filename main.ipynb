{
 "cells": [
  {
   "cell_type": "code",
   "execution_count": null,
   "metadata": {
    "vscode": {
     "languageId": "plaintext"
    }
   },
   "outputs": [],
   "source": [
    "import numpy as np\n",
    "import pandas as pd\n",
    "from matplotlib import pyplot as plt\n",
    "import matplotlib . pyplot as plt\n",
    "import seaborn as sns\n",
    "\n",
    "# Bai tap 1\n",
    "df = pd . read_csv ('cleveland .csv ', header = None )\n",
    "df . columns = ['age ', 'sex ', 'cp ', 'trestbps ', 'chol ',\n",
    "'fbs ', 'restecg ', 'thalach ', 'exang ',\n",
    "'oldpeak ', 'slope ', 'ca ', 'thal ', 'target ']\n",
    "df['target'] = df . target . map ({0: 0 , 1: 1 , 2: 1 , 3: 1 , 4: 1})\n",
    "df['thal'] = df . thal . fillna ( df . thal . mean () )\n",
    "df['ca'] = df . ca . fillna ( df . ca . mean () )"
   ]
  }
 ],
 "metadata": {
  "language_info": {
   "name": "python"
  }
 },
 "nbformat": 4,
 "nbformat_minor": 2
}
